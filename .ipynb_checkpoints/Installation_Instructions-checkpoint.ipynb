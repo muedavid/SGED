{
 "cells": [
  {
   "cell_type": "markdown",
   "metadata": {},
   "source": [
    "# Setting up a python environment\n",
    "Install jupyter-notebook, if you haven't done so and we also install the protobuf compiler and the virtual environment.\n",
    "```bash\n",
    "sudo apt install jupyter-notebook protobuf-compiler python3-venv\n",
    "```\n"
   ]
  },
  {
   "cell_type": "markdown",
   "metadata": {},
   "source": [
    "Then, we create a virtual environment. For this we ensure that we have `virtualenv` installed."
   ]
  },
  {
   "cell_type": "markdown",
   "metadata": {},
   "source": [
    "And we create the virtual env.\n",
    "```bash\n",
    "python3 -m venv tf\n",
    "```"
   ]
  },
  {
   "cell_type": "markdown",
   "metadata": {},
   "source": [
    "Now you need to open a terminal and execute the commands below to activate the environment and to make it available in jupyter notebooks.\n",
    "```bash\n",
    "source tf/bin/activate # Linux/Mac\n",
    "# .\\tfod\\Scripts\\activate # Windows \n",
    "python -m pip install --upgrade pip\n",
    "pip install ipykernel\n",
    "python -m ipykernel install --user --name=tf\n",
    "```"
   ]
  },
  {
   "cell_type": "markdown",
   "metadata": {},
   "source": [
    "Now, you should be able to open this file using jupyter-notebook.\n",
    "```bash\n",
    "cd <to-the-directory-of-this-file>\n",
    "jupyter-notebook\n",
    "```\n",
    "And then open this file."
   ]
  },
  {
   "cell_type": "markdown",
   "metadata": {},
   "source": [
    "You can select the new kernel in \n",
    "> Kernel->Change Kernel->tf\n",
    "\n",
    "Then on the top right you should now instead of seeing Python3 see the tensorflow_python_environment selected."
   ]
  },
  {
   "cell_type": "markdown",
   "metadata": {},
   "source": [
    "Now you can run the installation steps below in this notebook."
   ]
  },
  {
   "cell_type": "code",
   "execution_count": null,
   "metadata": {},
   "outputs": [],
   "source": [
    "import sys"
   ]
  },
  {
   "cell_type": "code",
   "execution_count": null,
   "metadata": {},
   "outputs": [],
   "source": [
    "!{sys.executable} -m pip install opencv-python wheel absl-py --upgrade\n",
    "!{sys.executable} -m pip install pyparsing==2.4.2 scikit-image"
   ]
  }
 ],
 "metadata": {
  "kernelspec": {
   "display_name": "tf",
   "language": "python",
   "name": "tf"
  },
  "language_info": {
   "codemirror_mode": {
    "name": "ipython",
    "version": 3
   },
   "file_extension": ".py",
   "mimetype": "text/x-python",
   "name": "python",
   "nbconvert_exporter": "python",
   "pygments_lexer": "ipython3",
   "version": "3.8.10"
  }
 },
 "nbformat": 4,
 "nbformat_minor": 4
}

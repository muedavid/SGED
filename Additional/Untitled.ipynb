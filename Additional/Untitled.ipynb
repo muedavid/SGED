{
 "cells": [
  {
   "cell_type": "code",
   "execution_count": 1,
   "id": "1d511cdb",
   "metadata": {},
   "outputs": [
    {
     "name": "stderr",
     "output_type": "stream",
     "text": [
      "2022-07-11 17:02:00.352892: I tensorflow/stream_executor/cuda/cuda_gpu_executor.cc:936] successful NUMA node read from SysFS had negative value (-1), but there must be at least one NUMA node, so returning NUMA node zero\n",
      "2022-07-11 17:02:00.365546: I tensorflow/stream_executor/cuda/cuda_gpu_executor.cc:936] successful NUMA node read from SysFS had negative value (-1), but there must be at least one NUMA node, so returning NUMA node zero\n",
      "2022-07-11 17:02:00.365842: I tensorflow/stream_executor/cuda/cuda_gpu_executor.cc:936] successful NUMA node read from SysFS had negative value (-1), but there must be at least one NUMA node, so returning NUMA node zero\n"
     ]
    },
    {
     "name": "stdout",
     "output_type": "stream",
     "text": [
      "tf.Tensor([[[[1. 2.]]]], shape=(1, 1, 1, 2), dtype=float32)\n"
     ]
    },
    {
     "name": "stderr",
     "output_type": "stream",
     "text": [
      "2022-07-11 17:02:00.367286: I tensorflow/core/platform/cpu_feature_guard.cc:151] This TensorFlow binary is optimized with oneAPI Deep Neural Network Library (oneDNN) to use the following CPU instructions in performance-critical operations:  AVX2 AVX512F FMA\n",
      "To enable them in other operations, rebuild TensorFlow with the appropriate compiler flags.\n",
      "2022-07-11 17:02:00.368007: I tensorflow/stream_executor/cuda/cuda_gpu_executor.cc:936] successful NUMA node read from SysFS had negative value (-1), but there must be at least one NUMA node, so returning NUMA node zero\n",
      "2022-07-11 17:02:00.368198: I tensorflow/stream_executor/cuda/cuda_gpu_executor.cc:936] successful NUMA node read from SysFS had negative value (-1), but there must be at least one NUMA node, so returning NUMA node zero\n",
      "2022-07-11 17:02:00.368331: I tensorflow/stream_executor/cuda/cuda_gpu_executor.cc:936] successful NUMA node read from SysFS had negative value (-1), but there must be at least one NUMA node, so returning NUMA node zero\n",
      "2022-07-11 17:02:00.739458: I tensorflow/stream_executor/cuda/cuda_gpu_executor.cc:936] successful NUMA node read from SysFS had negative value (-1), but there must be at least one NUMA node, so returning NUMA node zero\n",
      "2022-07-11 17:02:00.739568: I tensorflow/stream_executor/cuda/cuda_gpu_executor.cc:936] successful NUMA node read from SysFS had negative value (-1), but there must be at least one NUMA node, so returning NUMA node zero\n",
      "2022-07-11 17:02:00.739640: I tensorflow/stream_executor/cuda/cuda_gpu_executor.cc:936] successful NUMA node read from SysFS had negative value (-1), but there must be at least one NUMA node, so returning NUMA node zero\n",
      "2022-07-11 17:02:00.739714: I tensorflow/core/common_runtime/gpu/gpu_device.cc:1525] Created device /job:localhost/replica:0/task:0/device:GPU:0 with 9824 MB memory:  -> device: 0, name: NVIDIA GeForce RTX 3060, pci bus id: 0000:22:00.0, compute capability: 8.6\n"
     ]
    }
   ],
   "source": [
    "import tensorflow as tf\n",
    "\n",
    "c = tf.constant([[[[1, 2]]]], tf.float32)\n",
    "print(c)\n",
    "s1 = tf.ones([1,1,1,1], tf.float32)*10\n",
    "s2 = tf.ones([1,1,1,1], tf.float32)*20\n",
    "shared = [c, s1, s2]"
   ]
  },
  {
   "cell_type": "code",
   "execution_count": 4,
   "id": "8bf7fe4c",
   "metadata": {},
   "outputs": [],
   "source": [
    "def shared_concatenation(sides, num_classes):\n",
    "    shared_concat = []\n",
    "    for j in range(len(sides)):\n",
    "        if sides[j].shape[-1] == num_classes:\n",
    "            shared_concat.append(sides[j])\n",
    "        else:\n",
    "            shared_concat.append(tf.repeat(sides[j], num_classes, axis=-1))\n",
    "    return tf.keras.layers.Concatenate(axis=-1)(shared_concat)\n",
    "\n",
    "def fused_classification(x, num_classes, name=None):\n",
    "    shape = tf.cast(tf.shape(x),x.dtype)\n",
    "    x = tf.keras.layers.Reshape((1,1,-1,2))(x)\n",
    "    x = tf.transpose(x, perm=[0, 1, 2, 4, 3])\n",
    "    print(x)\n",
    "    x = tf.keras.layers.Conv2D(filters=2, kernel_size=3, stride(),name=name)(x)\n",
    "    print(x)\n",
    "    return tf.squeeze(x,axis=-1)"
   ]
  },
  {
   "cell_type": "code",
   "execution_count": 5,
   "id": "1f4cca01",
   "metadata": {},
   "outputs": [
    {
     "name": "stdout",
     "output_type": "stream",
     "text": [
      "tf.Tensor([[[[ 1.  2. 10. 10. 20. 20.]]]], shape=(1, 1, 1, 6), dtype=float32)\n",
      "tf.Tensor(\n",
      "[[[[[ 1. 10. 20.]\n",
      "    [ 2. 10. 20.]]]]], shape=(1, 1, 1, 2, 3), dtype=float32)\n",
      "tf.Tensor(\n",
      "[[[[[16.688965]\n",
      "    [17.503906]]]]], shape=(1, 1, 1, 2, 1), dtype=float32)\n",
      "tf.Tensor([[[[16.688965 17.503906]]]], shape=(1, 1, 1, 2), dtype=float32)\n"
     ]
    }
   ],
   "source": [
    "s = shared_concatenation(shared,2)\n",
    "print(s)\n",
    "g = fused_classification(s, 2)\n",
    "print(g)"
   ]
  },
  {
   "cell_type": "code",
   "execution_count": null,
   "id": "629c910c",
   "metadata": {},
   "outputs": [],
   "source": []
  }
 ],
 "metadata": {
  "kernelspec": {
   "display_name": "tf",
   "language": "python",
   "name": "tf"
  },
  "language_info": {
   "codemirror_mode": {
    "name": "ipython",
    "version": 3
   },
   "file_extension": ".py",
   "mimetype": "text/x-python",
   "name": "python",
   "nbconvert_exporter": "python",
   "pygments_lexer": "ipython3",
   "version": "3.8.10"
  }
 },
 "nbformat": 4,
 "nbformat_minor": 5
}
